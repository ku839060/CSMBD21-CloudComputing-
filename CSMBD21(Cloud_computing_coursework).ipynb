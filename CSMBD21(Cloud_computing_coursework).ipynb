{
  "nbformat": 4,
  "nbformat_minor": 0,
  "metadata": {
    "colab": {
      "name": "CSMBD21(Cloud computing coursework).ipynb",
      "provenance": [],
      "collapsed_sections": [],
      "mount_file_id": "1cEAWTiDwAh3TgB4SSiZxcNaXxBAoK8q8",
      "authorship_tag": "ABX9TyMS7DdfHZUSCYquItLQnkJw",
      "include_colab_link": true
    },
    "kernelspec": {
      "name": "python3",
      "display_name": "Python 3"
    },
    "language_info": {
      "name": "python"
    }
  },
  "cells": [
    {
      "cell_type": "markdown",
      "metadata": {
        "id": "view-in-github",
        "colab_type": "text"
      },
      "source": [
        "<a href=\"https://colab.research.google.com/github/ku839060/CSMBD21-CloudComputing-/blob/main/CSMBD21(Cloud_computing_coursework).ipynb\" target=\"_parent\"><img src=\"https://colab.research.google.com/assets/colab-badge.svg\" alt=\"Open In Colab\"/></a>"
      ]
    },
    {
      "cell_type": "code",
      "source": [
        "import pandas as pd\n",
        "import csv"
      ],
      "metadata": {
        "id": "HVcOKDnqg9h3"
      },
      "execution_count": 336,
      "outputs": []
    },
    {
      "cell_type": "markdown",
      "source": [
        "# Reading the datasets to datastructures, \n",
        "Pandas was used for this case for usability this also allowed for the checking of the results to ensure that they where correct."
      ],
      "metadata": {
        "id": "KH2lUGhaHY6m"
      }
    },
    {
      "cell_type": "code",
      "execution_count": 337,
      "metadata": {
        "id": "aBdzDlbVglh6"
      },
      "outputs": [],
      "source": [
        "AComp_passenger_data_no_errorDF = pd.read_csv(\"/content/drive/MyDrive/University of reading/Sem 2/Big data and cloud computing/Cloud computing CourseWork/Data/AComp_Passenger_data_no_error.csv\", header=None)\n",
        "Top30_airports_LatLongDF = pd.read_csv(\"/content/drive/MyDrive/University of reading/Sem 2/Big data and cloud computing/Cloud computing CourseWork/Data/Top30_airports_LatLong.csv\", header=None)"
      ]
    },
    {
      "cell_type": "code",
      "source": [
        "AComp_passenger_data_no_errorDF\n",
        "#checking the dataset using pandas for visual aid."
      ],
      "metadata": {
        "colab": {
          "base_uri": "https://localhost:8080/",
          "height": 423
        },
        "id": "kcrykUazRB_9",
        "outputId": "9e9e1346-4071-493d-dc5a-ba12b09465e9"
      },
      "execution_count": 366,
      "outputs": [
        {
          "output_type": "execute_result",
          "data": {
            "text/plain": [
              "              0         1    2    3           4     5\n",
              "0    UES9151GS5  SQU6245R  DEN  FRA  1420564460  1049\n",
              "1    UES9151GS5  XXQ4064B  JFK  FRA  1420563917   802\n",
              "2    EZC9678QI6  SOH3431A  ORD  MIA  1420563649   250\n",
              "3    ONL0812DH1  SOH3431A  ORD  MIA  1420563649   250\n",
              "4    CYJ0225CH1  PME8178S  DEN  PEK  1420564409  1322\n",
              "..          ...       ...  ...  ...         ...   ...\n",
              "495  BWI0520BG6  BER7172M  KUL  LAS  1420565167  1848\n",
              "496  LLZ3798PE3  EWH6301Y  CAN  DFW  1420564967  1683\n",
              "497  KKP5277HZ7  KJR6646J  IAH  BKK  1420565203  1928\n",
              "498  JJM4724RF7  XXQ4064B  JFK  FRA  1420563917   802\n",
              "499  SJD8775RZ4  WSK1289Z  CLT  DEN  1420563542   278\n",
              "\n",
              "[500 rows x 6 columns]"
            ],
            "text/html": [
              "\n",
              "  <div id=\"df-63e473fc-0668-4393-bba7-b8e461cb4243\">\n",
              "    <div class=\"colab-df-container\">\n",
              "      <div>\n",
              "<style scoped>\n",
              "    .dataframe tbody tr th:only-of-type {\n",
              "        vertical-align: middle;\n",
              "    }\n",
              "\n",
              "    .dataframe tbody tr th {\n",
              "        vertical-align: top;\n",
              "    }\n",
              "\n",
              "    .dataframe thead th {\n",
              "        text-align: right;\n",
              "    }\n",
              "</style>\n",
              "<table border=\"1\" class=\"dataframe\">\n",
              "  <thead>\n",
              "    <tr style=\"text-align: right;\">\n",
              "      <th></th>\n",
              "      <th>0</th>\n",
              "      <th>1</th>\n",
              "      <th>2</th>\n",
              "      <th>3</th>\n",
              "      <th>4</th>\n",
              "      <th>5</th>\n",
              "    </tr>\n",
              "  </thead>\n",
              "  <tbody>\n",
              "    <tr>\n",
              "      <th>0</th>\n",
              "      <td>UES9151GS5</td>\n",
              "      <td>SQU6245R</td>\n",
              "      <td>DEN</td>\n",
              "      <td>FRA</td>\n",
              "      <td>1420564460</td>\n",
              "      <td>1049</td>\n",
              "    </tr>\n",
              "    <tr>\n",
              "      <th>1</th>\n",
              "      <td>UES9151GS5</td>\n",
              "      <td>XXQ4064B</td>\n",
              "      <td>JFK</td>\n",
              "      <td>FRA</td>\n",
              "      <td>1420563917</td>\n",
              "      <td>802</td>\n",
              "    </tr>\n",
              "    <tr>\n",
              "      <th>2</th>\n",
              "      <td>EZC9678QI6</td>\n",
              "      <td>SOH3431A</td>\n",
              "      <td>ORD</td>\n",
              "      <td>MIA</td>\n",
              "      <td>1420563649</td>\n",
              "      <td>250</td>\n",
              "    </tr>\n",
              "    <tr>\n",
              "      <th>3</th>\n",
              "      <td>ONL0812DH1</td>\n",
              "      <td>SOH3431A</td>\n",
              "      <td>ORD</td>\n",
              "      <td>MIA</td>\n",
              "      <td>1420563649</td>\n",
              "      <td>250</td>\n",
              "    </tr>\n",
              "    <tr>\n",
              "      <th>4</th>\n",
              "      <td>CYJ0225CH1</td>\n",
              "      <td>PME8178S</td>\n",
              "      <td>DEN</td>\n",
              "      <td>PEK</td>\n",
              "      <td>1420564409</td>\n",
              "      <td>1322</td>\n",
              "    </tr>\n",
              "    <tr>\n",
              "      <th>...</th>\n",
              "      <td>...</td>\n",
              "      <td>...</td>\n",
              "      <td>...</td>\n",
              "      <td>...</td>\n",
              "      <td>...</td>\n",
              "      <td>...</td>\n",
              "    </tr>\n",
              "    <tr>\n",
              "      <th>495</th>\n",
              "      <td>BWI0520BG6</td>\n",
              "      <td>BER7172M</td>\n",
              "      <td>KUL</td>\n",
              "      <td>LAS</td>\n",
              "      <td>1420565167</td>\n",
              "      <td>1848</td>\n",
              "    </tr>\n",
              "    <tr>\n",
              "      <th>496</th>\n",
              "      <td>LLZ3798PE3</td>\n",
              "      <td>EWH6301Y</td>\n",
              "      <td>CAN</td>\n",
              "      <td>DFW</td>\n",
              "      <td>1420564967</td>\n",
              "      <td>1683</td>\n",
              "    </tr>\n",
              "    <tr>\n",
              "      <th>497</th>\n",
              "      <td>KKP5277HZ7</td>\n",
              "      <td>KJR6646J</td>\n",
              "      <td>IAH</td>\n",
              "      <td>BKK</td>\n",
              "      <td>1420565203</td>\n",
              "      <td>1928</td>\n",
              "    </tr>\n",
              "    <tr>\n",
              "      <th>498</th>\n",
              "      <td>JJM4724RF7</td>\n",
              "      <td>XXQ4064B</td>\n",
              "      <td>JFK</td>\n",
              "      <td>FRA</td>\n",
              "      <td>1420563917</td>\n",
              "      <td>802</td>\n",
              "    </tr>\n",
              "    <tr>\n",
              "      <th>499</th>\n",
              "      <td>SJD8775RZ4</td>\n",
              "      <td>WSK1289Z</td>\n",
              "      <td>CLT</td>\n",
              "      <td>DEN</td>\n",
              "      <td>1420563542</td>\n",
              "      <td>278</td>\n",
              "    </tr>\n",
              "  </tbody>\n",
              "</table>\n",
              "<p>500 rows × 6 columns</p>\n",
              "</div>\n",
              "      <button class=\"colab-df-convert\" onclick=\"convertToInteractive('df-63e473fc-0668-4393-bba7-b8e461cb4243')\"\n",
              "              title=\"Convert this dataframe to an interactive table.\"\n",
              "              style=\"display:none;\">\n",
              "        \n",
              "  <svg xmlns=\"http://www.w3.org/2000/svg\" height=\"24px\"viewBox=\"0 0 24 24\"\n",
              "       width=\"24px\">\n",
              "    <path d=\"M0 0h24v24H0V0z\" fill=\"none\"/>\n",
              "    <path d=\"M18.56 5.44l.94 2.06.94-2.06 2.06-.94-2.06-.94-.94-2.06-.94 2.06-2.06.94zm-11 1L8.5 8.5l.94-2.06 2.06-.94-2.06-.94L8.5 2.5l-.94 2.06-2.06.94zm10 10l.94 2.06.94-2.06 2.06-.94-2.06-.94-.94-2.06-.94 2.06-2.06.94z\"/><path d=\"M17.41 7.96l-1.37-1.37c-.4-.4-.92-.59-1.43-.59-.52 0-1.04.2-1.43.59L10.3 9.45l-7.72 7.72c-.78.78-.78 2.05 0 2.83L4 21.41c.39.39.9.59 1.41.59.51 0 1.02-.2 1.41-.59l7.78-7.78 2.81-2.81c.8-.78.8-2.07 0-2.86zM5.41 20L4 18.59l7.72-7.72 1.47 1.35L5.41 20z\"/>\n",
              "  </svg>\n",
              "      </button>\n",
              "      \n",
              "  <style>\n",
              "    .colab-df-container {\n",
              "      display:flex;\n",
              "      flex-wrap:wrap;\n",
              "      gap: 12px;\n",
              "    }\n",
              "\n",
              "    .colab-df-convert {\n",
              "      background-color: #E8F0FE;\n",
              "      border: none;\n",
              "      border-radius: 50%;\n",
              "      cursor: pointer;\n",
              "      display: none;\n",
              "      fill: #1967D2;\n",
              "      height: 32px;\n",
              "      padding: 0 0 0 0;\n",
              "      width: 32px;\n",
              "    }\n",
              "\n",
              "    .colab-df-convert:hover {\n",
              "      background-color: #E2EBFA;\n",
              "      box-shadow: 0px 1px 2px rgba(60, 64, 67, 0.3), 0px 1px 3px 1px rgba(60, 64, 67, 0.15);\n",
              "      fill: #174EA6;\n",
              "    }\n",
              "\n",
              "    [theme=dark] .colab-df-convert {\n",
              "      background-color: #3B4455;\n",
              "      fill: #D2E3FC;\n",
              "    }\n",
              "\n",
              "    [theme=dark] .colab-df-convert:hover {\n",
              "      background-color: #434B5C;\n",
              "      box-shadow: 0px 1px 3px 1px rgba(0, 0, 0, 0.15);\n",
              "      filter: drop-shadow(0px 1px 2px rgba(0, 0, 0, 0.3));\n",
              "      fill: #FFFFFF;\n",
              "    }\n",
              "  </style>\n",
              "\n",
              "      <script>\n",
              "        const buttonEl =\n",
              "          document.querySelector('#df-63e473fc-0668-4393-bba7-b8e461cb4243 button.colab-df-convert');\n",
              "        buttonEl.style.display =\n",
              "          google.colab.kernel.accessAllowed ? 'block' : 'none';\n",
              "\n",
              "        async function convertToInteractive(key) {\n",
              "          const element = document.querySelector('#df-63e473fc-0668-4393-bba7-b8e461cb4243');\n",
              "          const dataTable =\n",
              "            await google.colab.kernel.invokeFunction('convertToInteractive',\n",
              "                                                     [key], {});\n",
              "          if (!dataTable) return;\n",
              "\n",
              "          const docLinkHtml = 'Like what you see? Visit the ' +\n",
              "            '<a target=\"_blank\" href=https://colab.research.google.com/notebooks/data_table.ipynb>data table notebook</a>'\n",
              "            + ' to learn more about interactive tables.';\n",
              "          element.innerHTML = '';\n",
              "          dataTable['output_type'] = 'display_data';\n",
              "          await google.colab.output.renderOutput(dataTable, element);\n",
              "          const docLink = document.createElement('div');\n",
              "          docLink.innerHTML = docLinkHtml;\n",
              "          element.appendChild(docLink);\n",
              "        }\n",
              "      </script>\n",
              "    </div>\n",
              "  </div>\n",
              "  "
            ]
          },
          "metadata": {},
          "execution_count": 366
        }
      ]
    },
    {
      "cell_type": "markdown",
      "source": [
        "# Reading and parsing the data"
      ],
      "metadata": {
        "id": "1CK0rOMSE2Go"
      }
    },
    {
      "cell_type": "code",
      "source": [
        "#opening the dataset\n",
        "AComp_passenger_data_no_error = open('/content/drive/MyDrive/University of reading/Sem 2/Big data and cloud computing/Cloud computing CourseWork/Data/AComp_Passenger_data_no_error.csv')\n",
        "#Top30_airports_LatLong = open('/content/drive/MyDrive/University of reading/Sem 2/Big data and cloud computing/Cloud computing CourseWork/Data/Top30_airports_LatLong.csv')\n",
        "\n",
        "#reading the dataset\n",
        "AComp_passenger_data_no_error_reader = csv.reader(AComp_passenger_data_no_error)\n",
        "#Top30_airports_LatLong_reader = csv.reader(Top30_airports_LatLong)\n",
        "\n",
        "#Parseing the data. for use within the mapper.\n",
        "parsedata = []\n",
        "for row in AComp_passenger_data_no_error_reader:\n",
        "  parsedata.append(row)\n",
        "\n"
      ],
      "metadata": {
        "id": "adwtKRD_M33b"
      },
      "execution_count": 340,
      "outputs": []
    },
    {
      "cell_type": "markdown",
      "source": [
        "# Mapper Phase Class"
      ],
      "metadata": {
        "id": "pstanh4bg_Zg"
      }
    },
    {
      "cell_type": "code",
      "source": [
        "class Mapper(object):\n",
        "  def __init__(self): super(Mapper, self).__init__()\n",
        "  \n",
        "  #the mapper function that assigns a key and a value to a list containing tuples.\n",
        "  def mapper(self, datastructure, colum):\n",
        "    TupleList = []\n",
        "    for line in datastructure:\n",
        "      TupleList.append(tuple( (line[colum], 1)))\n",
        "    return TupleList\n"
      ],
      "metadata": {
        "id": "kWWXMICxZXAc"
      },
      "execution_count": 348,
      "outputs": []
    },
    {
      "cell_type": "markdown",
      "source": [
        "# Multithreading class functions"
      ],
      "metadata": {
        "id": "8RUE3EoMQVkf"
      }
    },
    {
      "cell_type": "markdown",
      "source": [
        "As the threading inbuilt does not allow for easy return of functions this function was used to facilitate this aspect."
      ],
      "metadata": {
        "id": "ZHhwX_8Rki9l"
      }
    },
    {
      "cell_type": "code",
      "source": [
        "from threading import Thread\n",
        "\n",
        "#this class allows for the returning of functions when using threading\n",
        "class ThreadWithReturnValue(Thread):\n",
        "    def __init__(self, group=None, target=None, name=None,args=(), kwargs={}, Verbose=None):\n",
        "      Thread.__init__(self, group, target, name, args, kwargs)\n",
        "      self._return = None\n",
        "\n",
        "  #sets up the thread\n",
        "    def run(self):\n",
        "        print(type(self._target))\n",
        "        if self._target is not None:\n",
        "            self._return = self._target(*self._args,\n",
        "                                                **self._kwargs)\n",
        "    #initalises the thread.\n",
        "    def join(self, *args):\n",
        "        Thread.join(self, *args)\n",
        "        return self._return"
      ],
      "metadata": {
        "id": "6HSg-m5KOunN"
      },
      "execution_count": 352,
      "outputs": []
    },
    {
      "cell_type": "markdown",
      "source": [
        "Multithreading mapper function to ensure that all the threads are completed before moving onto the reducing stage."
      ],
      "metadata": {
        "id": "ELwhI2g4kZ9Q"
      }
    },
    {
      "cell_type": "code",
      "source": [
        "def multithreadingmapper(datastructure,column,chunks):\n",
        "\n",
        "  #breaking the data into chunks\n",
        "  n = int((len(parsedata))/chunks)\n",
        "  chunkeddata=[parsedata[i:i + n] for i in range(0, len(parsedata), n)]\n",
        "\n",
        "  #creating threads for each of the chunks for the mapper to utilise\n",
        "  #in this case four where used.\n",
        "  listofmappedchunks = []\n",
        "  for chunk in chunkeddata:\n",
        "      chunkmappedthread = ThreadWithReturnValue(target = MapperObject.mapper,args = (chunk,column))\n",
        "      chunkmappedthread.start()\n",
        "      listofmappedchunks.append(chunkmappedthread.join())\n",
        "\n",
        "  #combining the results of the threads into one single which can then be utilised by the reducer.\n",
        "  Combinedmappedresult = []\n",
        "  for mappedchunk in listofmappedchunks:\n",
        "       Combinedmappedresult = Combinedmappedresult + mappedchunk\n",
        "\n",
        "  return Combinedmappedresult\n"
      ],
      "metadata": {
        "id": "JfgADz0IH9pa"
      },
      "execution_count": 353,
      "outputs": []
    },
    {
      "cell_type": "markdown",
      "source": [
        "# Reduce Phase class"
      ],
      "metadata": {
        "id": "_2zvOLvpD4Fh"
      }
    },
    {
      "cell_type": "code",
      "source": [
        "class Reducer(object):  \n",
        "  def __init__(self):\n",
        "          super(Reducer, self).__init__()\n",
        "\n",
        "  # this function provides a reduced dictionary for use in the lower functions\n",
        "  def reduct(self,TupleList):\n",
        "    reductdict = {}\n",
        "    for key, value in TupleList:\n",
        "      reductdict[key] = reductdict.get(key,0) + value\n",
        "    return reductdict\n",
        "\n",
        "  #when standard reducing this sorts them by value as well\n",
        "  def reducer(self,TupleList):\n",
        "\n",
        "    reducerDict = self.reduct(TupleList)\n",
        "    sorted_tuples = sorted(reducerDict.items(), key=lambda item: item[1],reverse = True)\n",
        "    sorted_dict = {k: v for k, v in sorted_tuples}\n",
        "\n",
        "    return list(sorted_dict.items())\n",
        "\n",
        "  #this function returns only the highest key value, Used for highest number of flights\n",
        "  def HighestReducer(self,TupleList):\n",
        "\n",
        "    reducerDict = {}\n",
        "    reducerDict = self.reduct(TupleList)\n",
        "    HighestPassenger = max(reducerDict, key=reducerDict.get)\n",
        "\n",
        "    return HighestPassenger"
      ],
      "metadata": {
        "id": "VkFMnZvND2Nh"
      },
      "execution_count": 363,
      "outputs": []
    },
    {
      "cell_type": "markdown",
      "source": [
        "# Creating a mapper and reducer object"
      ],
      "metadata": {
        "id": "6xpQYspCkNey"
      }
    },
    {
      "cell_type": "code",
      "source": [
        "MapperObject = Mapper()\n",
        "ReducerObject = Reducer()"
      ],
      "metadata": {
        "id": "NorXsn7bh8Fa"
      },
      "execution_count": 364,
      "outputs": []
    },
    {
      "cell_type": "markdown",
      "source": [
        "# Task 1"
      ],
      "metadata": {
        "id": "6N4-6-xdkINR"
      }
    },
    {
      "cell_type": "code",
      "source": [
        "#passing the colum related to flight from this is where multiple nodes of the mapper are used in threads\n",
        "Combinedmappedresult = multithreadingmapper(parsedata,2,4)\n",
        "\n",
        "#reducing the mapped results down. this function also sorts into decending order.\n",
        "ReducerOutput = ReducerObject.reducer(Combinedmappedresult)\n",
        "\n",
        "ReducerOutput"
      ],
      "metadata": {
        "id": "pa0nQwWEWmqz",
        "colab": {
          "base_uri": "https://localhost:8080/"
        },
        "outputId": "14ed5dd5-090c-49ce-ad35-9f9bc98aa50d"
      },
      "execution_count": 365,
      "outputs": [
        {
          "output_type": "stream",
          "name": "stdout",
          "text": [
            "<class 'method'>\n",
            "<class 'method'>\n",
            "<class 'method'>\n",
            "<class 'method'>\n"
          ]
        },
        {
          "output_type": "execute_result",
          "data": {
            "text/plain": [
              "[('DEN', 46),\n",
              " ('CAN', 37),\n",
              " ('IAH', 37),\n",
              " ('ATL', 36),\n",
              " ('ORD', 33),\n",
              " ('KUL', 33),\n",
              " ('CGK', 27),\n",
              " ('JFK', 25),\n",
              " ('LHR', 25),\n",
              " ('CDG', 21),\n",
              " ('CLT', 21),\n",
              " ('PVG', 20),\n",
              " ('LAS', 17),\n",
              " ('BKK', 17),\n",
              " ('AMS', 15),\n",
              " ('FCO', 15),\n",
              " ('MUC', 14),\n",
              " ('MAD', 13),\n",
              " ('PEK', 13),\n",
              " ('HND', 13),\n",
              " ('DFW', 11),\n",
              " ('MIA', 11)]"
            ]
          },
          "metadata": {},
          "execution_count": 365
        }
      ]
    },
    {
      "cell_type": "markdown",
      "source": [
        "# task 2"
      ],
      "metadata": {
        "id": "q2a6W4zakKmz"
      }
    },
    {
      "cell_type": "code",
      "source": [
        "#passing the colum related to Passengers from this is where multiple nodes of the mapper are used in threads\n",
        "Combinedmappedresult = multithreadingmapper(parsedata,0,4)\n",
        "#returning only the passenger that coccurs most frequently.\n",
        "ReducerHighestOutput = ReducerObject.HighestReducer(Combinedmappedresult)\n",
        "ReducerHighestOutput"
      ],
      "metadata": {
        "id": "tHCn16UWbnBX",
        "colab": {
          "base_uri": "https://localhost:8080/",
          "height": 110
        },
        "outputId": "64c2c4ca-ae2f-4cd6-a6f9-d3c560432da3"
      },
      "execution_count": 356,
      "outputs": [
        {
          "output_type": "stream",
          "name": "stdout",
          "text": [
            "<class 'method'>\n",
            "<class 'method'>\n",
            "<class 'method'>\n",
            "<class 'method'>\n"
          ]
        },
        {
          "output_type": "execute_result",
          "data": {
            "text/plain": [
              "'UES9151GS5'"
            ],
            "application/vnd.google.colaboratory.intrinsic+json": {
              "type": "string"
            }
          },
          "metadata": {},
          "execution_count": 356
        }
      ]
    }
  ]
}